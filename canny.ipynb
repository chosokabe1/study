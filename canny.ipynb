{
 "cells": [
  {
   "cell_type": "code",
   "execution_count": 15,
   "metadata": {},
   "outputs": [],
   "source": [
    "import glob\n",
    "import os\n",
    "%matplotlib inline\n",
    "from matplotlib import pyplot as plt\n",
    "import numpy as np\n",
    "import cv2"
   ]
  },
  {
   "cell_type": "code",
   "execution_count": 16,
   "metadata": {},
   "outputs": [],
   "source": [
    "def makedir(path):\n",
    "  if not os.path.exists(path):\n",
    "    os.makedirs(path)"
   ]
  },
  {
   "cell_type": "code",
   "execution_count": 17,
   "metadata": {},
   "outputs": [],
   "source": [
    "# out_path = \"data\\\\2021\\hayashi\"\n",
    "# morph_path = \"data\\egg_trim_600\\morph\"\n",
    "# back_path = \"data\\egg_trim_600\\\\back\"\n",
    "# noback_path = \"data\\egg_trim_600\\\\noback\"\n",
    "# inpath = \"C:\\ex\\sen\\data\\\\2021\\\\4k\\\\22\\\\22_046.jpg\"\n",
    "# makedir(back_path)\n",
    "# makedir(noback_path)\n",
    "# makedir(morph_path)\n",
    "in_path = \"C:\\ex\\sen\\data\\max_square\\\\all\"\n",
    "# back_path = \"C:\\ex\\sen\\data\\padding_600min\\cross\\\\e\\\\test\\\\back_from_trim_from_egg\"\n",
    "# no_back_path = \"C:\\ex\\sen\\data\\padding_600min\\cross\\\\e\\\\test\\\\noback_from_trim_from_egg\"\n",
    "outpath = \"C:\\ex\\sen\\data\\max_square\\canny\"\n",
    "# makedir(back_path)\n",
    "# makedir(no_back_path)"
   ]
  },
  {
   "cell_type": "code",
   "execution_count": 18,
   "metadata": {},
   "outputs": [],
   "source": [
    "# def show_imgs(lis,col,size=15,f=20):\n",
    "#   row = -(-len(lis) // col)\n",
    "#   fig,ax = plt.subplots(row,col,figsize = (size,size))\n",
    "#   if row == 1:\n",
    "#     for i, img in enumerate(lis):\n",
    "#       ax[i].imshow(img)\n",
    "#   else:\n",
    "#     for i, img in enumerate(lis):\n",
    "#       j = i//col\n",
    "#       k = i%col\n",
    "#       ax[j][k].imshow(img)\n",
    "  \n",
    "#   plt.show()"
   ]
  },
  {
   "cell_type": "code",
   "execution_count": 19,
   "metadata": {},
   "outputs": [],
   "source": [
    "# for index, img_path in enumerate(glob.glob(os.path.join(in_path, \"*\"))):\n",
    "\n",
    "#   img = cv2.imread(img_path)\n",
    "#   edges = cv2.Canny(img,30,30)\n",
    "#   # cv2.imwrite(os.path.join(out_path, os.path.basename(img_path)), edges)\n",
    "\n",
    "#   white_area=cv2.countNonZero(edges)\n",
    "#   white_thresh = 6000\n",
    "#   if white_area < white_thresh:\n",
    "#     cv2.imwrite(os.path.join(back_path,os.path.basename(img_path)), img)\n",
    "#   else:\n",
    "#     cv2.imwrite(os.path.join(no_back_path,os.path.basename(img_path)), img)\n",
    "  # kernel = np.ones((5,5),np.uint8)\n",
    "  # closing = cv2.morphologyEx(edges, cv2.MORPH_CLOSE, kernel)\n",
    "  # closing_opening = cv2.morphologyEx(closing, cv2.MORPH_OPEN, kernel)\n",
    "  # cv2.imwrite(os.path.join(morph_path, os.path.basename(img_path)), closing_opening)\n"
   ]
  },
  {
   "cell_type": "code",
   "execution_count": 20,
   "metadata": {},
   "outputs": [],
   "source": [
    "for index, img_path in enumerate(glob.glob(os.path.join(in_path, \"*\"))):\n",
    "  img = cv2.imread(img_path)\n",
    "  edges = cv2.Canny(img,30,30)\n",
    "  kernel = np.ones((10,10),np.uint8)\n",
    "  closing = cv2.morphologyEx(edges, cv2.MORPH_CLOSE, kernel)\n",
    "  closing_opening = cv2.morphologyEx(closing, cv2.MORPH_OPEN, kernel)\n",
    "  cv2.imwrite(os.path.join(outpath, os.path.basename(img_path)), closing_opening)"
   ]
  },
  {
   "cell_type": "code",
   "execution_count": 21,
   "metadata": {},
   "outputs": [],
   "source": [
    "# img_path = inpath\n",
    "# img = cv2.imread(img_path)\n",
    "# cv2.imwrite(os.path.join(out_path, \"org\" + os.path.basename(img_path)), img)\n",
    "# edges = cv2.Canny(img,20,20)\n",
    "# cv2.imwrite(os.path.join(out_path, os.path.basename(img_path)), edges)\n",
    "# im_gray = cv2.cvtColor(img, cv2.COLOR_BGR2GRAY)\n",
    "# ret, binary = cv2.threshold(im_gray, 0, 255, cv2.THRESH_OTSU)\n",
    "# cv2.imwrite(os.path.join(out_path, \"binary_\" + os.path.basename(img_path)), binary)\n",
    "# adaptive = cv2.adaptiveThreshold(im_gray, 255, cv2.ADAPTIVE_THRESH_MEAN_C, cv2.THRESH_BINARY_INV, 11, 0)\n",
    "# cv2.imwrite(os.path.join(out_path, \"adaptive_\" + os.path.basename(img_path)), adaptive)\n"
   ]
  }
 ],
 "metadata": {
  "kernelspec": {
   "display_name": "Python 3.8.10 ('.sen': venv)",
   "language": "python",
   "name": "python3"
  },
  "language_info": {
   "codemirror_mode": {
    "name": "ipython",
    "version": 3
   },
   "file_extension": ".py",
   "mimetype": "text/x-python",
   "name": "python",
   "nbconvert_exporter": "python",
   "pygments_lexer": "ipython3",
   "version": "3.8.10"
  },
  "orig_nbformat": 4,
  "vscode": {
   "interpreter": {
    "hash": "52c25e5d2c0298585f6976033ea699090aee416a2ac953fc04a260c1a5416d53"
   }
  }
 },
 "nbformat": 4,
 "nbformat_minor": 2
}
