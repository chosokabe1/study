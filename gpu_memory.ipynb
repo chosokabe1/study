{
 "cells": [
  {
   "cell_type": "code",
   "execution_count": 34,
   "metadata": {},
   "outputs": [],
   "source": [
    "import subprocess\n",
    " \n",
    "default_properies = (\n",
    "  \"timestamp\",\n",
    "  \"gpu_name\",\n",
    "  #\"gpu_uuid\",\n",
    "  \"index\",\n",
    "  \"memory.total\",\n",
    "  \"memory.used\",\n",
    "  \"memory.free\",\n",
    "  \"utilization.gpu\",\n",
    "  \"utilization.memory\",\n",
    ")\n",
    " \n",
    "def get_gpu_properties(\n",
    "  cmd_path=\"C:\\Windows\\System32\\\\nvidia-smi.exe\",\n",
    "  target_properties=default_properies,\n",
    "  noheader=True,\n",
    "  nounits=True\n",
    "  ):\n",
    "  \"\"\"\n",
    "  CUDA GPUのプロパティ情報取得\n",
    " \n",
    "  Parameters\n",
    "  ----------\n",
    "  cmd_path : str\n",
    "    コマンドラインから\"nvidia-smi\"を実行する際のパス\n",
    "  target_properties : obj\n",
    "    取得するプロパティ情報\n",
    "    プロパティ情報の詳細は\"nvidia-smi --help-query-gpu\"で取得可能\n",
    "  noheader : bool\n",
    "    skip the first line with column headers\n",
    "  nounits : bool\n",
    "    don't print units for numerical values\n",
    " \n",
    "  Returns\n",
    "  -------\n",
    "  gpu_properties : list\n",
    "    gpuごとのproperty情報\n",
    "  \"\"\"\n",
    "    \n",
    "  # formatオプション定義\n",
    "  format_option = \"--format=csv\"\n",
    "  if noheader:\n",
    "      format_option += \",noheader\"\n",
    "  if nounits:\n",
    "      format_option += \",nounits\"\n",
    " \n",
    "  # コマンド生成\n",
    "  cmd = '%s --query-gpu=%s %s' % (cmd_path, ','.join(target_properties), format_option)\n",
    " \n",
    "  # サブプロセスでコマンド実行\n",
    "  cmd_res = subprocess.check_output(cmd, shell=True)\n",
    "    \n",
    "  # コマンド実行結果をオブジェクトに変換\n",
    "  gpu_lines = cmd_res.decode().split('\\n')\n",
    "  # リストの最後の要素に空行が入るため除去\n",
    "  gpu_lines = [ line.strip() for line in gpu_lines if line.strip() != '' ]\n",
    " \n",
    "  # \", \"ごとにプロパティ情報が入っているのでdictにして格納\n",
    "  gpu_properties = [ { k: v for k, v in zip(target_properties, line.split(', ')) } for line in gpu_lines ]\n",
    " \n",
    "  return gpu_properties"
   ]
  },
  {
   "cell_type": "code",
   "execution_count": 35,
   "metadata": {},
   "outputs": [
    {
     "name": "stdout",
     "output_type": "stream",
     "text": [
      "{'timestamp': '2022/10/19 10:38:53.063', 'gpu_name': 'NVIDIA RTX A5000 Laptop GPU', 'index': '0', 'memory.total': '16384', 'memory.used': '228', 'memory.free': '15972', 'utilization.gpu': '41', 'utilization.memory': '11'}\n",
      "NVIDIA RTX A5000 Laptop GPU [ 0 ] used 228 MiB\n"
     ]
    }
   ],
   "source": [
    "properties = get_gpu_properties()\n",
    "# GPU Property情報出力\n",
    "for property in properties:\n",
    "  print(property)\n",
    "  print(property[\"gpu_name\"], \"[\", property[\"index\"], \"] used\", property[\"memory.used\"], \"MiB\" )\n",
    "  # {'timestamp': '2021/10/04 12:40:37.100', 'gpu_name': 'GeForce GTX 1080 Ti', 'index': '1', 'memory.total': '11178', 'memory.used': '2', 'memorfree': '11176', 'utilization.gpu': '0', 'utilization.memory': '0'}\n",
    "  # GeForce GTX 1080 Ti [ 0 ] used 19 MiB"
   ]
  },
  {
   "cell_type": "code",
   "execution_count": 36,
   "metadata": {},
   "outputs": [
    {
     "name": "stdout",
     "output_type": "stream",
     "text": [
      "[[{'timestamp': '2022/10/19 10:38:54.153', 'gpu_name': 'NVIDIA RTX A5000 Laptop GPU', 'index': '0', 'memory.total': '16384', 'memory.used': '228', 'memory.free': '15972', 'utilization.gpu': '43', 'utilization.memory': '14'}], [{'timestamp': '2022/10/19 10:38:55.227', 'gpu_name': 'NVIDIA RTX A5000 Laptop GPU', 'index': '0', 'memory.total': '16384', 'memory.used': '228', 'memory.free': '15972', 'utilization.gpu': '31', 'utilization.memory': '13'}]]\n",
      "[[{'timestamp': '2022/10/19 10:38:56.286', 'gpu_name': 'NVIDIA RTX A5000 Laptop GPU', 'index': '0', 'memory.total': '16384', 'memory.used': '228', 'memory.free': '15972', 'utilization.gpu': '23', 'utilization.memory': '6'}], [{'timestamp': '2022/10/19 10:38:57.152', 'gpu_name': 'NVIDIA RTX A5000 Laptop GPU', 'index': '0', 'memory.total': '16384', 'memory.used': '228', 'memory.free': '15972', 'utilization.gpu': '38', 'utilization.memory': '11'}], [{'timestamp': '2022/10/19 10:38:57.342', 'gpu_name': 'NVIDIA RTX A5000 Laptop GPU', 'index': '0', 'memory.total': '16384', 'memory.used': '228', 'memory.free': '15972', 'utilization.gpu': '38', 'utilization.memory': '10'}], [{'timestamp': '2022/10/19 10:38:58.211', 'gpu_name': 'NVIDIA RTX A5000 Laptop GPU', 'index': '0', 'memory.total': '16384', 'memory.used': '228', 'memory.free': '15972', 'utilization.gpu': '38', 'utilization.memory': '10'}], [{'timestamp': '2022/10/19 10:38:58.398', 'gpu_name': 'NVIDIA RTX A5000 Laptop GPU', 'index': '0', 'memory.total': '16384', 'memory.used': '228', 'memory.free': '15972', 'utilization.gpu': '38', 'utilization.memory': '10'}]]\n",
      "[[{'timestamp': '2022/10/19 10:38:59.256', 'gpu_name': 'NVIDIA RTX A5000 Laptop GPU', 'index': '0', 'memory.total': '16384', 'memory.used': '228', 'memory.free': '15972', 'utilization.gpu': '38', 'utilization.memory': '10'}], [{'timestamp': '2022/10/19 10:38:59.461', 'gpu_name': 'NVIDIA RTX A5000 Laptop GPU', 'index': '0', 'memory.total': '16384', 'memory.used': '228', 'memory.free': '15972', 'utilization.gpu': '38', 'utilization.memory': '10'}], [{'timestamp': '2022/10/19 10:39:00.150', 'gpu_name': 'NVIDIA RTX A5000 Laptop GPU', 'index': '0', 'memory.total': '16384', 'memory.used': '228', 'memory.free': '15972', 'utilization.gpu': '38', 'utilization.memory': '10'}], [{'timestamp': '2022/10/19 10:39:00.323', 'gpu_name': 'NVIDIA RTX A5000 Laptop GPU', 'index': '0', 'memory.total': '16384', 'memory.used': '228', 'memory.free': '15972', 'utilization.gpu': '38', 'utilization.memory': '10'}], [{'timestamp': '2022/10/19 10:39:00.526', 'gpu_name': 'NVIDIA RTX A5000 Laptop GPU', 'index': '0', 'memory.total': '16384', 'memory.used': '228', 'memory.free': '15972', 'utilization.gpu': '38', 'utilization.memory': '10'}], [{'timestamp': '2022/10/19 10:39:01.194', 'gpu_name': 'NVIDIA RTX A5000 Laptop GPU', 'index': '0', 'memory.total': '16384', 'memory.used': '228', 'memory.free': '15972', 'utilization.gpu': '38', 'utilization.memory': '10'}], [{'timestamp': '2022/10/19 10:39:01.381', 'gpu_name': 'NVIDIA RTX A5000 Laptop GPU', 'index': '0', 'memory.total': '16384', 'memory.used': '228', 'memory.free': '15972', 'utilization.gpu': '38', 'utilization.memory': '10'}], [{'timestamp': '2022/10/19 10:39:01.583', 'gpu_name': 'NVIDIA RTX A5000 Laptop GPU', 'index': '0', 'memory.total': '16384', 'memory.used': '228', 'memory.free': '15972', 'utilization.gpu': '38', 'utilization.memory': '10'}]]\n"
     ]
    }
   ],
   "source": [
    "import threading\n",
    "import time\n",
    " \n",
    "g_IsMonitor = False\n",
    "g_GpuPropertiesList = []\n",
    " \n",
    "def monitoring_gpu_task(interval):\n",
    "  global g_IsMonitor\n",
    "  global g_GpuPropertiesList\n",
    " \n",
    "  while g_IsMonitor:\n",
    "    time.sleep(interval)\n",
    "    res = get_gpu_properties()\n",
    "    g_GpuPropertiesList.append( res )\n",
    " \n",
    "def start_gpu_monitor(interval):\n",
    "  global g_IsMonitor\n",
    "  global g_GpuPropertiesList\n",
    " \n",
    "  g_IsMonitor = True\n",
    "  g_GpuPropertiesList.clear()\n",
    " \n",
    "  monitor_thread = threading.Thread(target=monitoring_gpu_task, args=(interval, ))\n",
    "  monitor_thread.start()\n",
    " \n",
    "def end_gpu_monitor():\n",
    "  global g_IsMonitor\n",
    "  global g_GpuPropertiesList\n",
    "  g_IsMonitor = False\n",
    "  return g_GpuPropertiesList\n",
    " \n",
    "# 1sec間隔でGPUのProperty情報を取得\n",
    "for number in range(3):\n",
    "  start_gpu_monitor(1)\n",
    "  time.sleep(3)\n",
    "  properties_list = end_gpu_monitor()\n",
    "  print(properties_list)\n",
    "# [\n",
    "#   [\n",
    "#     {'timestamp': '2021/10/04 15:33:24.015', 'gpu_name': 'GeForce GTX 1080 Ti', 'index': '0', 'memory.total': '11178', 'memory.used': '19', 'memorfree': '11159', 'utilization.gpu': '0', 'utilization.memory': '0'}, \n",
    "#     {'timestamp': '2021/10/04 15:33:24.016', 'gpu_name': 'GeForce GTX 1080 Ti', 'index': '1', 'memory.total': '11178', 'memory.used': '2', 'memorfree': '11176', 'utilization.gpu': '0', 'utilization.memory': '0'}\n",
    "#   ], \n",
    "#   [\n",
    "#     {'timestamp': '2021/10/04 15:33:25.039', 'gpu_name': 'GeForce GTX 1080 Ti', 'index': '0', 'memory.total': '11178', 'memory.used': '19', 'memorfree': '11159', 'utilization.gpu': '0', 'utilization.memory': '0'}, \n",
    "#     {'timestamp': '2021/10/04 15:33:25.039', 'gpu_name': 'GeForce GTX 1080 Ti', 'index': '1', 'memory.total': '11178', 'memory.used': '2', 'memorfree': '11176', 'utilization.gpu': '0', 'utilization.memory': '0'}\n",
    "#   ]\n",
    "# ]\n",
    " "
   ]
  },
  {
   "cell_type": "code",
   "execution_count": 41,
   "metadata": {},
   "outputs": [
    {
     "name": "stdout",
     "output_type": "stream",
     "text": [
      "[{'timestamp': '2022/10/19 10:38:59.256', 'gpu_name': 'NVIDIA RTX A5000 Laptop GPU', 'index': '0', 'memory.total': '16384', 'memory.used': '228', 'memory.free': '15972', 'utilization.gpu': '38', 'utilization.memory': '10'}]\n"
     ]
    }
   ],
   "source": [
    "properties_list[0],properties_list[1]\n",
    "print(properties_list[0])\n",
    "type(properties_list[0][0])\n",
    "properties_list[0][0]['timestamp']\n",
    "for dict in properties_list:\n",
    "  dict[0]['timestamp'] += ('\"')"
   ]
  },
  {
   "cell_type": "code",
   "execution_count": 42,
   "metadata": {},
   "outputs": [
    {
     "name": "stdout",
     "output_type": "stream",
     "text": [
      "{'timestamp': '2022/10/19 10:38:59.256\"', 'gpu_name': 'NVIDIA RTX A5000 Laptop GPU', 'index': '0', 'memory.total': '16384', 'memory.used': '228', 'memory.free': '15972', 'utilization.gpu': '38', 'utilization.memory': '10'}\n",
      "{'timestamp': '2022/10/19 10:38:59.461\"', 'gpu_name': 'NVIDIA RTX A5000 Laptop GPU', 'index': '0', 'memory.total': '16384', 'memory.used': '228', 'memory.free': '15972', 'utilization.gpu': '38', 'utilization.memory': '10'}\n",
      "{'timestamp': '2022/10/19 10:39:00.150\"', 'gpu_name': 'NVIDIA RTX A5000 Laptop GPU', 'index': '0', 'memory.total': '16384', 'memory.used': '228', 'memory.free': '15972', 'utilization.gpu': '38', 'utilization.memory': '10'}\n",
      "{'timestamp': '2022/10/19 10:39:00.323\"', 'gpu_name': 'NVIDIA RTX A5000 Laptop GPU', 'index': '0', 'memory.total': '16384', 'memory.used': '228', 'memory.free': '15972', 'utilization.gpu': '38', 'utilization.memory': '10'}\n",
      "{'timestamp': '2022/10/19 10:39:00.526\"', 'gpu_name': 'NVIDIA RTX A5000 Laptop GPU', 'index': '0', 'memory.total': '16384', 'memory.used': '228', 'memory.free': '15972', 'utilization.gpu': '38', 'utilization.memory': '10'}\n",
      "{'timestamp': '2022/10/19 10:39:01.194\"', 'gpu_name': 'NVIDIA RTX A5000 Laptop GPU', 'index': '0', 'memory.total': '16384', 'memory.used': '228', 'memory.free': '15972', 'utilization.gpu': '38', 'utilization.memory': '10'}\n",
      "{'timestamp': '2022/10/19 10:39:01.381\"', 'gpu_name': 'NVIDIA RTX A5000 Laptop GPU', 'index': '0', 'memory.total': '16384', 'memory.used': '228', 'memory.free': '15972', 'utilization.gpu': '38', 'utilization.memory': '10'}\n",
      "{'timestamp': '2022/10/19 10:39:01.583\"', 'gpu_name': 'NVIDIA RTX A5000 Laptop GPU', 'index': '0', 'memory.total': '16384', 'memory.used': '228', 'memory.free': '15972', 'utilization.gpu': '38', 'utilization.memory': '10'}\n",
      "{'timestamp': '2022/10/19 10:39:02.266\"', 'gpu_name': 'NVIDIA RTX A5000 Laptop GPU', 'index': '0', 'memory.total': '16384', 'memory.used': '228', 'memory.free': '15972', 'utilization.gpu': '38', 'utilization.memory': '10'}\n",
      "{'timestamp': '2022/10/19 10:39:02.422\"', 'gpu_name': 'NVIDIA RTX A5000 Laptop GPU', 'index': '0', 'memory.total': '16384', 'memory.used': '228', 'memory.free': '15972', 'utilization.gpu': '44', 'utilization.memory': '15'}\n",
      "{'timestamp': '2022/10/19 10:39:02.624\"', 'gpu_name': 'NVIDIA RTX A5000 Laptop GPU', 'index': '0', 'memory.total': '16384', 'memory.used': '228', 'memory.free': '15972', 'utilization.gpu': '15', 'utilization.memory': '6'}\n"
     ]
    }
   ],
   "source": [
    "import csv\n",
    "outputlist = []\n",
    "\n",
    "with open('sample_gpu.csv', 'w', newline=\"\") as f:\n",
    "  writer = csv.DictWriter(f, ['timestamp','memory.used','memory.free', 'index', 'utilization.gpu', 'utilization.memory', 'gpu_name', 'memory.total'])\n",
    "  writer.writeheader()\n",
    "  for dict in properties_list:\n",
    "    writer.writerow(dict[0])\n",
    "    print(dict[0])"
   ]
  }
 ],
 "metadata": {
  "kernelspec": {
   "display_name": "Python 3.8.10 ('.sen': venv)",
   "language": "python",
   "name": "python3"
  },
  "language_info": {
   "codemirror_mode": {
    "name": "ipython",
    "version": 3
   },
   "file_extension": ".py",
   "mimetype": "text/x-python",
   "name": "python",
   "nbconvert_exporter": "python",
   "pygments_lexer": "ipython3",
   "version": "3.8.10"
  },
  "orig_nbformat": 4,
  "vscode": {
   "interpreter": {
    "hash": "52c25e5d2c0298585f6976033ea699090aee416a2ac953fc04a260c1a5416d53"
   }
  }
 },
 "nbformat": 4,
 "nbformat_minor": 2
}
