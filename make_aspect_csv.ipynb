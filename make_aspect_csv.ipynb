{
 "cells": [
  {
   "cell_type": "code",
   "execution_count": 4,
   "metadata": {},
   "outputs": [],
   "source": [
    "\n",
    "train_egg_aspect_ratio = 0\n",
    "train_egg_aspect_sum = 0\n",
    "train_egg_number = 201\n",
    "train_indis_no_aspect_ratio = 0\n",
    "train_indis_no_aspect_sum = 0\n",
    "train_indis_no_number = 159\n",
    "val_egg_aspect_ratio = 0\n",
    "val_egg_aspect_sum = 0\n",
    "val_egg_number = 56\n",
    "val_indis_no_aspect_ratio = 0\n",
    "val_indis_no_aspect_sum = 0\n",
    "val_indis_no_number = 46"
   ]
  },
  {
   "cell_type": "code",
   "execution_count": 5,
   "metadata": {},
   "outputs": [
    {
     "name": "stdout",
     "output_type": "stream",
     "text": [
      "train_egg_aspect = 1.5546692582987598\n",
      "train_indis_no_aspect = 1.5111752073067353\n",
      "val_egg_aspect = 2.1876944703991597\n",
      "val_indis_no_aspect = 1.6367873578150698\n"
     ]
    }
   ],
   "source": [
    "import glob\n",
    "import os\n",
    "import cv2\n",
    "\n",
    "ml_root_path = \"data\\max_square\\\\2cls\"\n",
    "\n",
    "for train_val in ['train', 'val']:\n",
    "  for ml_class in ['egg', 'indis_no']:\n",
    "    for image_path in glob.glob(os.path.join(ml_root_path, train_val, ml_class, \"*\")):\n",
    "      for aspect_image_path in glob.glob(os.path.join('data','all', '*')):\n",
    "        if os.path.basename(image_path) == os.path.basename(aspect_image_path):\n",
    "          aspect_image = cv2.imread(aspect_image_path)\n",
    "          h, w, _  = aspect_image.shape\n",
    "          aspect_ratio = h / w\n",
    "          if train_val == \"train\" and ml_class == \"egg\":\n",
    "            train_egg_aspect_sum += aspect_ratio\n",
    "\n",
    "          elif train_val == \"train\" and ml_class == \"indis_no\":\n",
    "            train_indis_no_aspect_sum += aspect_ratio\n",
    "          \n",
    "          elif train_val == \"val\" and ml_class == \"egg\":\n",
    "            val_egg_aspect_sum += aspect_ratio\n",
    "          \n",
    "          elif train_val == \"val\" and ml_class == \"indis_no\":\n",
    "            val_indis_no_aspect_sum += aspect_ratio\n",
    "\n",
    "print(f'train_egg_aspect = {train_egg_aspect_sum / train_egg_number}')\n",
    "print(f'train_indis_no_aspect = {train_indis_no_aspect_sum / train_indis_no_number}')\n",
    "print(f'val_egg_aspect = {val_egg_aspect_sum / val_egg_number}')\n",
    "print(f'val_indis_no_aspect = {val_indis_no_aspect_sum / val_indis_no_number}')"
   ]
  }
 ],
 "metadata": {
  "kernelspec": {
   "display_name": "Python 3.8.10 ('.sen': venv)",
   "language": "python",
   "name": "python3"
  },
  "language_info": {
   "codemirror_mode": {
    "name": "ipython",
    "version": 3
   },
   "file_extension": ".py",
   "mimetype": "text/x-python",
   "name": "python",
   "nbconvert_exporter": "python",
   "pygments_lexer": "ipython3",
   "version": "3.8.10"
  },
  "orig_nbformat": 4,
  "vscode": {
   "interpreter": {
    "hash": "52c25e5d2c0298585f6976033ea699090aee416a2ac953fc04a260c1a5416d53"
   }
  }
 },
 "nbformat": 4,
 "nbformat_minor": 2
}
