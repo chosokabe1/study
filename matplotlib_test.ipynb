{
 "cells": [
  {
   "cell_type": "code",
   "execution_count": null,
   "metadata": {},
   "outputs": [],
   "source": [
    "import numpy as np \n",
    "import matplotlib.pyplot as plt\n",
    "\n",
    "x  = np.arange(-5, 5, 0.1)\n",
    "y = np.sin(x)\n",
    "\n",
    "plt.plot(x,y)\n",
    "plt.show()"
   ]
  }
 ],
 "metadata": {
  "kernelspec": {
   "display_name": "Python 3.8.10 ('.sen': venv)",
   "language": "python",
   "name": "python3"
  },
  "language_info": {
   "name": "python",
   "version": "3.8.10"
  },
  "orig_nbformat": 4,
  "vscode": {
   "interpreter": {
    "hash": "52c25e5d2c0298585f6976033ea699090aee416a2ac953fc04a260c1a5416d53"
   }
  }
 },
 "nbformat": 4,
 "nbformat_minor": 2
}
