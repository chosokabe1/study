{
 "cells": [
  {
   "cell_type": "code",
   "execution_count": 1,
   "metadata": {},
   "outputs": [
    {
     "name": "stderr",
     "output_type": "stream",
     "text": [
      "c:\\ex\\sen\\.sen\\lib\\site-packages\\tqdm\\auto.py:22: TqdmWarning: IProgress not found. Please update jupyter and ipywidgets. See https://ipywidgets.readthedocs.io/en/stable/user_install.html\n",
      "  from .autonotebook import tqdm as notebook_tqdm\n"
     ]
    }
   ],
   "source": [
    "import glob\n",
    "import os\n",
    "import csv\n",
    "from finetuning.classification_module import slide_is_it_egg_folder"
   ]
  },
  {
   "cell_type": "code",
   "execution_count": 2,
   "metadata": {},
   "outputs": [],
   "source": [
    "egg_slide_path = \"C:\\ex\\sen\\data\\padding_600min\\cross\\\\e\\\\test\\\\noback_from_trim_from_egg\"\n",
    "no_slide_path = \"C:\\ex\\sen\\data\\padding_600min\\cross\\\\e\\\\test\\\\noback_from_trim_from_indis\"\n",
    "egg_csv = \"C:\\ex\\sen\\data\\padding_600min\\cross\\cross5_egg.csv\"\n",
    "no_csv = \"C:\\ex\\sen\\data\\padding_600min\\cross\\cross5_no.csv\""
   ]
  },
  {
   "cell_type": "code",
   "execution_count": 3,
   "metadata": {},
   "outputs": [
    {
     "name": "stdout",
     "output_type": "stream",
     "text": [
      "Loaded pretrained weights for efficientnet-b7\n",
      "model.load_state_dict(\\padding_600min_v2m_cross5\\model_Weights.pth))\n"
     ]
    }
   ],
   "source": [
    "csv_header = ['elegans', 'img', 'slide', 'is_egg']\n",
    "csv_body = []\n",
    "is_egg_list = slide_is_it_egg_folder.main(egg_slide_path)\n",
    "for idx,file_path in enumerate(glob.glob(os.path.join(egg_slide_path,'*'))):\n",
    "  elegans_number = os.path.basename(file_path).split('_')[0]\n",
    "  img_number = os.path.basename(file_path).split('_')[1]\n",
    "  slide_number = os.path.basename(file_path).split('_')[2][:-4]\n",
    "  if is_egg_list[idx] == 0:\n",
    "    is_egg = True\n",
    "  else:\n",
    "    is_egg = False\n",
    "\n",
    "  csv_body.append([elegans_number,img_number, slide_number, is_egg])\n",
    "\n",
    "  with open(egg_csv, 'w', newline=\"\") as f:\n",
    "    writer = csv.writer(f)\n",
    "    writer.writerow(csv_header)\n",
    "    writer.writerows(csv_body)"
   ]
  },
  {
   "cell_type": "code",
   "execution_count": 4,
   "metadata": {},
   "outputs": [
    {
     "name": "stdout",
     "output_type": "stream",
     "text": [
      "Loaded pretrained weights for efficientnet-b7\n",
      "model.load_state_dict(\\padding_600min_v2m_cross5\\model_Weights.pth))\n"
     ]
    }
   ],
   "source": [
    "csv_header = ['elegans', 'img', 'slide', 'is_egg']\n",
    "csv_body = []\n",
    "is_egg_list = slide_is_it_egg_folder.main(no_slide_path)\n",
    "for idx,file_path in enumerate(glob.glob(os.path.join(no_slide_path,'*'))):\n",
    "  elegans_number = os.path.basename(file_path).split('_')[0]\n",
    "  img_number = os.path.basename(file_path).split('_')[1]\n",
    "  slide_number = os.path.basename(file_path).split('_')[2][:-4]\n",
    "  if is_egg_list[idx] == 0:\n",
    "    is_egg = True\n",
    "  else:\n",
    "    is_egg = False\n",
    "\n",
    "  csv_body.append([elegans_number,img_number, slide_number, is_egg])\n",
    "\n",
    "  with open(no_csv, 'w', newline=\"\") as f:\n",
    "    writer = csv.writer(f)\n",
    "    writer.writerow(csv_header)\n",
    "    writer.writerows(csv_body)"
   ]
  }
 ],
 "metadata": {
  "kernelspec": {
   "display_name": "Python 3.8.10 ('.sen': venv)",
   "language": "python",
   "name": "python3"
  },
  "language_info": {
   "codemirror_mode": {
    "name": "ipython",
    "version": 3
   },
   "file_extension": ".py",
   "mimetype": "text/x-python",
   "name": "python",
   "nbconvert_exporter": "python",
   "pygments_lexer": "ipython3",
   "version": "3.8.10"
  },
  "orig_nbformat": 4,
  "vscode": {
   "interpreter": {
    "hash": "52c25e5d2c0298585f6976033ea699090aee416a2ac953fc04a260c1a5416d53"
   }
  }
 },
 "nbformat": 4,
 "nbformat_minor": 2
}
