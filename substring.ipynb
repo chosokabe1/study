{
 "cells": [
  {
   "cell_type": "code",
   "execution_count": 44,
   "metadata": {},
   "outputs": [],
   "source": [
    "# 文字列が新しいかチェックする関数\n",
    "def is_it_new(string, sub_string_list):\n",
    "    print('0')\n",
    "    flag = True\n",
    "    for sub_string in sub_string_list:\n",
    "        if sub_string == string:\n",
    "            flag = False\n",
    "    return flag"
   ]
  },
  {
   "cell_type": "code",
   "execution_count": 45,
   "metadata": {},
   "outputs": [],
   "source": [
    "# 取り除く番号リストと文字列を入力したら取り除いてくれる関数\n",
    "def remove(string, remove_numbers):\n",
    "    print('remove')\n",
    "    for remove_number in remove_numbers:\n",
    "        #取り除くべき文字を1に置き換える\n",
    "        string = string[0][:remove_number] + '1' + string[0][remove_number + 1:]\n",
    "    \n",
    "    #1を取り除く\n",
    "    new_string = ''\n",
    "    for index,s in enumerate(string):\n",
    "        if not string[index] == '1':\n",
    "            new_string = new_string + string[index]\n",
    "\n",
    "    return new_string"
   ]
  },
  {
   "cell_type": "code",
   "execution_count": 46,
   "metadata": {},
   "outputs": [],
   "source": [
    "import sys\n",
    "import math\n",
    "import itertools\n",
    "\n",
    "def main(lines):\n",
    "    print(str(len(lines[0])))\n",
    "    lines_len = len(lines[0])\n",
    "    numbers_lists = []\n",
    "    for i in range(lines_len):\n",
    "        numbers_lists.append(i)\n",
    "    \n",
    "    remove_lists = list(itertools.combinations(numbers_lists,1))\n",
    "    print(numbers_lists)\n",
    "    print(remove_lists)\n",
    "    substring_list = []\n",
    "\n",
    "    for remove_list in remove_lists:\n",
    "        tmp_new = remove(lines[0], remove_list)\n",
    "        is_new = is_it_new(tmp_new, substring_list)\n",
    "        if is_new:\n",
    "            substring_list.append(tmp_new)\n",
    "\n",
    "    print(f'substring_list:{len(substring_list)}')\n",
    "    print(substring_list)"
   ]
  },
  {
   "cell_type": "code",
   "execution_count": 47,
   "metadata": {},
   "outputs": [
    {
     "name": "stdout",
     "output_type": "stream",
     "text": [
      "3\n",
      "[0, 1, 2]\n",
      "[(0,), (1,), (2,)]\n",
      "remove\n",
      "0\n",
      "remove\n",
      "0\n",
      "remove\n",
      "0\n",
      "substring_list:2\n",
      "['', 'a']\n",
      "bc\n",
      "ac\n",
      "ab\n"
     ]
    }
   ],
   "source": [
    "lines = ['abc']\n",
    "main(lines)\n",
    "# print(lines[0][:0] + lines[0][0+1:])\n",
    "# print(lines[0][:1] + lines[0][1+1:])\n",
    "# print(lines[0][:2] + lines[0][2+1:])"
   ]
  }
 ],
 "metadata": {
  "kernelspec": {
   "display_name": "Python 3",
   "language": "python",
   "name": "python3"
  },
  "language_info": {
   "codemirror_mode": {
    "name": "ipython",
    "version": 3
   },
   "file_extension": ".py",
   "mimetype": "text/x-python",
   "name": "python",
   "nbconvert_exporter": "python",
   "pygments_lexer": "ipython3",
   "version": "3.8.10"
  },
  "orig_nbformat": 4,
  "vscode": {
   "interpreter": {
    "hash": "06ed87f94642f4028cc702db34a5a0b4eabca3edc8c79a33eea5c8367f460fa5"
   }
  }
 },
 "nbformat": 4,
 "nbformat_minor": 2
}
