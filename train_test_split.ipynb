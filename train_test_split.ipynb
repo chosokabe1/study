{
 "cells": [
  {
   "cell_type": "code",
   "execution_count": 44,
   "metadata": {},
   "outputs": [],
   "source": [
    "import os\n",
    "import glob\n",
    "import random"
   ]
  },
  {
   "cell_type": "code",
   "execution_count": 45,
   "metadata": {},
   "outputs": [],
   "source": [
    "def makedir(dir):\n",
    "  if not os.path.exists(dir):\n",
    "    os.makedirs(dir)"
   ]
  },
  {
   "cell_type": "code",
   "execution_count": 46,
   "metadata": {},
   "outputs": [],
   "source": [
    "data = 'data'\n",
    "root = 'data/itigo3class'\n",
    "classes = ['yu', 'ryo', 'shu'] "
   ]
  },
  {
   "cell_type": "code",
   "execution_count": 47,
   "metadata": {},
   "outputs": [],
   "source": [
    "for phase in [\"train\",\"test\"]:\n",
    "  for class_name in [\"yu\", \"ryo\", \"shu\"]:\n",
    "    makedir(os.path.join(root,phase,class_name))"
   ]
  },
  {
   "cell_type": "code",
   "execution_count": null,
   "metadata": {},
   "outputs": [],
   "source": [
    "import math\n",
    "class split:\n",
    "\n",
    "  # n そのクラスのデータ数\n",
    "  # val_rate valは10分の何か\n",
    "  def __init__(self, n, val_rate):\n",
    "    self.n = n\n",
    "    self.min_n_val = math.floor(n * val_rate / 10 ) \n",
    "  \n",
    "  \n"
   ]
  },
  {
   "cell_type": "code",
   "execution_count": 48,
   "metadata": {},
   "outputs": [],
   "source": [
    "ryo_paths = glob.glob(os.path.join(data,classes[1], \"*\"))\n",
    "n_ryo = len(ryo_paths)\n",
    "n_ryo_test = n_ryo // 5\n",
    "n_ryo_train = n_ryo - n_ryo_test\n",
    "random.shuffle(ryo_paths)\n",
    "ryo_train_paths = ryo_paths[:n_ryo_train]\n",
    "ryo_test_paths = ryo_paths[n_ryo_train:]\n",
    "\n",
    "yu_paths = glob.glob(os.path.join(data,classes[0], \"*\"))\n",
    "n_yu = len(yu_paths)\n",
    "n_yu_test = n_yu // 5\n",
    "n_yu_train = n_yu - n_yu_test\n",
    "random.shuffle(yu_paths)\n",
    "yu_train_paths = yu_paths[:n_yu_train]\n",
    "yu_test_paths = yu_paths[n_yu_train:]\n",
    "\n",
    "shu_paths = glob.glob(os.path.join(data,classes[2], \"*\"))\n",
    "n_shu = len(shu_paths)\n",
    "n_shu_test = n_shu // 5\n",
    "n_shu_train = n_shu - n_shu_test\n",
    "random.shuffle(shu_paths)\n",
    "shu_train_paths = shu_paths[:n_shu_train]\n",
    "shu_test_paths = shu_paths[n_shu_train:]"
   ]
  },
  {
   "cell_type": "code",
   "execution_count": 49,
   "metadata": {},
   "outputs": [],
   "source": [
    "import shutil\n",
    "def matome_copy(paths, outpath):\n",
    "  for inpath in paths:\n",
    "    shutil.copy(inpath, outpath)"
   ]
  },
  {
   "cell_type": "code",
   "execution_count": 50,
   "metadata": {},
   "outputs": [],
   "source": [
    "matome_copy(ryo_train_paths, os.path.join(root,'train','ryo'))\n",
    "matome_copy(ryo_test_paths, os.path.join(root,'test','ryo',))\n",
    "matome_copy(shu_train_paths, os.path.join(root,'train','shu'))\n",
    "matome_copy(shu_test_paths, os.path.join(root,'test','shu'))\n",
    "matome_copy(yu_train_paths, os.path.join(root,'train','yu'))\n",
    "matome_copy(yu_test_paths, os.path.join(root,'test','yu'))"
   ]
  }
 ],
 "metadata": {
  "kernelspec": {
   "display_name": "Python 3.8.10 ('.sen': venv)",
   "language": "python",
   "name": "python3"
  },
  "language_info": {
   "codemirror_mode": {
    "name": "ipython",
    "version": 3
   },
   "file_extension": ".py",
   "mimetype": "text/x-python",
   "name": "python",
   "nbconvert_exporter": "python",
   "pygments_lexer": "ipython3",
   "version": "3.8.10"
  },
  "orig_nbformat": 4,
  "vscode": {
   "interpreter": {
    "hash": "52c25e5d2c0298585f6976033ea699090aee416a2ac953fc04a260c1a5416d53"
   }
  }
 },
 "nbformat": 4,
 "nbformat_minor": 2
}
