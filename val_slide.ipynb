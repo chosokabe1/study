{
 "cells": [
  {
   "cell_type": "code",
   "execution_count": 130,
   "metadata": {},
   "outputs": [],
   "source": [
    "import csv"
   ]
  },
  {
   "cell_type": "code",
   "execution_count": 131,
   "metadata": {},
   "outputs": [],
   "source": [
    "cross1_egg = 'C:\\ex\\sen\\data\\padding_600min\\cross\\cross5_egg_count.csv'\n",
    "cross1_no = 'C:\\ex\\sen\\data\\padding_600min\\cross\\cross5_no_count.csv'"
   ]
  },
  {
   "cell_type": "code",
   "execution_count": 132,
   "metadata": {},
   "outputs": [],
   "source": [
    "threshold = 1.0"
   ]
  },
  {
   "cell_type": "code",
   "execution_count": 133,
   "metadata": {},
   "outputs": [
    {
     "name": "stdout",
     "output_type": "stream",
     "text": [
      "egg:correct:43, error:7\n"
     ]
    }
   ],
   "source": [
    "egg_correct = 0\n",
    "egg_error = 0\n",
    "with open(cross1_egg) as f:\n",
    "  reader = csv.reader(f)\n",
    "  for idx,row in enumerate(reader):\n",
    "    if idx < 2:\n",
    "      continue\n",
    "    no_count = float(row[1])\n",
    "    egg_count = float(row[2])\n",
    "    if no_count == 0:\n",
    "      egg_rate = 100\n",
    "    else:\n",
    "      egg_rate = egg_count / no_count\n",
    "    if egg_rate >= threshold:\n",
    "      egg_correct += 1\n",
    "    else:\n",
    "      egg_error += 1\n",
    "\n",
    "print(f'egg:correct:{egg_correct}, error:{egg_error}')\n"
   ]
  },
  {
   "cell_type": "code",
   "execution_count": 134,
   "metadata": {},
   "outputs": [
    {
     "name": "stdout",
     "output_type": "stream",
     "text": [
      "no:correct:17, error:23\n"
     ]
    }
   ],
   "source": [
    "no_correct = 0\n",
    "no_error = 0\n",
    "with open(cross1_no) as f:\n",
    "  reader = csv.reader(f)\n",
    "  for idx,row in enumerate(reader):\n",
    "    if idx < 2:\n",
    "      continue\n",
    "    no_count = float(row[1])\n",
    "    egg_count = float(row[2])\n",
    "    if no_count == 0:\n",
    "      egg_rate = 100\n",
    "    else:\n",
    "      egg_rate = egg_count / no_count\n",
    "    if egg_rate >= threshold:\n",
    "      no_error += 1\n",
    "    else:\n",
    "      no_correct += 1\n",
    "\n",
    "print(f'no:correct:{no_correct}, error:{no_error}')\n"
   ]
  },
  {
   "cell_type": "code",
   "execution_count": 135,
   "metadata": {},
   "outputs": [
    {
     "name": "stdout",
     "output_type": "stream",
     "text": [
      "all_correct:60,all_error:30\n"
     ]
    }
   ],
   "source": [
    "all_correct = egg_correct + no_correct\n",
    "all_error = egg_error + no_error\n",
    "print(f\"all_correct:{all_correct},all_error:{all_error}\")"
   ]
  }
 ],
 "metadata": {
  "kernelspec": {
   "display_name": "Python 3.8.10 ('.sen': venv)",
   "language": "python",
   "name": "python3"
  },
  "language_info": {
   "codemirror_mode": {
    "name": "ipython",
    "version": 3
   },
   "file_extension": ".py",
   "mimetype": "text/x-python",
   "name": "python",
   "nbconvert_exporter": "python",
   "pygments_lexer": "ipython3",
   "version": "3.8.10"
  },
  "orig_nbformat": 4,
  "vscode": {
   "interpreter": {
    "hash": "52c25e5d2c0298585f6976033ea699090aee416a2ac953fc04a260c1a5416d53"
   }
  }
 },
 "nbformat": 4,
 "nbformat_minor": 2
}
